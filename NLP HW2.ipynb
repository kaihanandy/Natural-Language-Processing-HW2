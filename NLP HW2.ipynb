{
 "cells": [
  {
   "cell_type": "code",
   "execution_count": 1,
   "id": "7453fec1",
   "metadata": {
    "scrolled": false
   },
   "outputs": [],
   "source": [
    "import requests\n",
    "from bs4 import BeautifulSoup\n",
    "import pandas as pd\n",
    "import matplotlib.pyplot as plt\n",
    "import numpy\n",
    "from collections import OrderedDict"
   ]
  },
  {
   "cell_type": "code",
   "execution_count": 2,
   "id": "997bbee2",
   "metadata": {},
   "outputs": [],
   "source": [
    "typehref = []\n",
    "def find_href():\n",
    "    for types in range(21):\n",
    "        for pages in range(99):\n",
    "            url= \"https://movies.yahoo.com.tw/moviegenre_result.html?genre_id=\"+str(types+1)+\"&page=\"+str(pages+1)\n",
    "            r = requests.get(url)\n",
    "            soup = (BeautifulSoup(r.text, \"html.parser\"))\n",
    "            for d in soup.find_all('div', class_=\"release_movie_name\"):\n",
    "                typehref.append(d.find('a', class_='gabtn')['href'])\n",
    "    \n",
    "    typehrefdel = list(OrderedDict.fromkeys(typehref))\n",
    "    return(typehrefdel)"
   ]
  },
  {
   "cell_type": "code",
   "execution_count": 3,
   "id": "c8db6aa8",
   "metadata": {},
   "outputs": [],
   "source": [
    "def article(href):\n",
    "    exe=[]\n",
    "    for a in href:\n",
    "        url = a\n",
    "        r = requests.get(url)\n",
    "        so = BeautifulSoup(r.text, \"html.parser\")\n",
    "\n",
    "        name_ch = so.find('h1').text.strip()\n",
    "        name_en = so.find('h3').text.strip()\n",
    "        date=so.find('div',class_= 'movie_intro_info_r').find('span').text.split('上映日期：')[1]\n",
    "\n",
    "        types=''\n",
    "        for c in so.find_all('div', class_=\"level_name_box\"):\n",
    "            for d in c.find_all('div', class_=\"level_name\"):\n",
    "                types+=d.find('a', class_='gabtn').text.strip()\n",
    "\n",
    "        article=so.find('div',class_='gray_infobox_inner').find('span').text.strip()\n",
    "        exesin=(name_ch,name_en,date,types,article)\n",
    "        exe.append(exesin)\n",
    "    return exe"
   ]
  },
  {
   "cell_type": "code",
   "execution_count": null,
   "id": "074eb79e",
   "metadata": {},
   "outputs": [
    {
     "name": "stdout",
     "output_type": "stream",
     "text": [
      "Processing href\n",
      "Processing Data\n"
     ]
    }
   ],
   "source": [
    "print(\"Processing href\")\n",
    "href = find_href()\n",
    "print(\"Processing Data\")\n",
    "exe = article(href)\n",
    "print(\"Processing Done\")\n",
    "df = pd.DataFrame(exe, columns = [\"中文名稱\", \"英文名稱\",'上映日期','類型','簡介',])\n",
    "df"
   ]
  },
  {
   "cell_type": "code",
   "execution_count": null,
   "id": "ba31a447",
   "metadata": {},
   "outputs": [],
   "source": [
    "df.to_csv('movie.csv',encoding = 'utf_8_sig')"
   ]
  }
 ],
 "metadata": {
  "kernelspec": {
   "display_name": "Python 3 (ipykernel)",
   "language": "python",
   "name": "python3"
  },
  "language_info": {
   "codemirror_mode": {
    "name": "ipython",
    "version": 3
   },
   "file_extension": ".py",
   "mimetype": "text/x-python",
   "name": "python",
   "nbconvert_exporter": "python",
   "pygments_lexer": "ipython3",
   "version": "3.7.9"
  }
 },
 "nbformat": 4,
 "nbformat_minor": 5
}
